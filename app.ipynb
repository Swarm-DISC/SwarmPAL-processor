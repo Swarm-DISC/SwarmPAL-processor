{
 "cells": [
  {
   "cell_type": "code",
   "execution_count": null,
   "id": "b2cbf344-620b-4e54-866e-677395013384",
   "metadata": {},
   "outputs": [],
   "source": [
    "import random\n",
    "import string\n",
    "import datetime as dt\n",
    "import panel as pn\n",
    "import hvplot.xarray\n",
    "from tempfile import NamedTemporaryFile\n",
    "import shutil\n",
    "import os\n",
    "\n",
    "from swarmpal.toolboxes.fac.presets import fac_single_sat"
   ]
  },
  {
   "cell_type": "code",
   "execution_count": null,
   "id": "433ef598-6c39-467b-a815-582f25215e8d",
   "metadata": {},
   "outputs": [],
   "source": [
    "pn.extension()"
   ]
  },
  {
   "cell_type": "code",
   "execution_count": null,
   "id": "ec8bf8e5-1932-4e44-a0b7-c88d10dd6665",
   "metadata": {},
   "outputs": [],
   "source": [
    "start_of_today = dt.datetime.now().date()\n",
    "end_of_today = start_of_today + dt.timedelta(days=1)\n",
    "four_weeks_ago = end_of_today - dt.timedelta(days=28)\n",
    "\n",
    "widgets = {\n",
    "        \"spacecraft\": pn.widgets.RadioBoxGroup(options=[\"Swarm-A\", \"Swarm-B\", \"Swarm-C\"]),\n",
    "        \"grade\": pn.widgets.RadioBoxGroup(options=[\"OPER\", \"FAST\"], value=\"FAST\"),\n",
    "        \"start-end\": pn.widgets.DatetimeRangePicker(\n",
    "            start=four_weeks_ago,\n",
    "            end=end_of_today,\n",
    "            value=(start_of_today, end_of_today),\n",
    "            enable_time=False,\n",
    "        ),\n",
    "        \"action-button\": pn.widgets.Button(name=\"Evaluate\", button_type=\"primary\")\n",
    "    }\n",
    "\n",
    "controls = pn.Column(\n",
    "    widgets[\"start-end\"],\n",
    "    widgets[\"spacecraft\"],\n",
    "    widgets[\"grade\"],\n",
    "    widgets[\"action-button\"],\n",
    ")\n",
    "controls"
   ]
  },
  {
   "cell_type": "code",
   "execution_count": null,
   "id": "d4f8ad6a-f0f2-4d9b-937a-a8a33cb63989",
   "metadata": {},
   "outputs": [],
   "source": [
    "class FacDataExplorer:\n",
    "    def __init__(self, widgets):\n",
    "        self.widgets = widgets\n",
    "        self.cdf_download = pn.widgets.FileDownload(button_type=\"success\")\n",
    "        self.output_pane = pn.Column(\n",
    "            pn.pane.Markdown(),\n",
    "            pn.pane.HoloViews(),\n",
    "            pn.layout.Divider(),\n",
    "            self.cdf_download,\n",
    "        )\n",
    "        self.widgets[\"action-button\"].on_click(self.update_data)\n",
    "        self.update_data(None)\n",
    "\n",
    "    @property\n",
    "    def controls(self):\n",
    "        return pn.Column(\n",
    "            self.widgets[\"start-end\"],\n",
    "            self.widgets[\"spacecraft\"],\n",
    "            self.widgets[\"grade\"],\n",
    "            self.widgets[\"action-button\"],\n",
    "        )\n",
    "\n",
    "    @property\n",
    "    def time_start_end_str(self):\n",
    "        t_s, t_e = self.widgets[\"start-end\"].value\n",
    "        return f'{t_s.strftime(\"%Y%m%dT%H%M%S\")}_{t_e.strftime(\"%Y%m%dT%H%M%S\")}'\n",
    "\n",
    "    @property\n",
    "    def spacecraft(self):\n",
    "        return self.widgets[\"spacecraft\"].value\n",
    "\n",
    "    @property\n",
    "    def grade(self):\n",
    "        return self.widgets[\"grade\"].value\n",
    "\n",
    "    def update_data(self, event):\n",
    "        self.data = fac_single_sat(\n",
    "            spacecraft=self.widgets[\"spacecraft\"].value,\n",
    "            grade=self.widgets[\"grade\"].value,\n",
    "            time_start=self.widgets[\"start-end\"].value[0].isoformat(),\n",
    "            time_end=self.widgets[\"start-end\"].value[1].isoformat(),\n",
    "            output=False,\n",
    "        )\n",
    "        self._update_output_pane()\n",
    "        self._update_cdf_file()\n",
    "\n",
    "    def _update_output_pane(self):\n",
    "        title = f'## {self.widgets[\"spacecraft\"].value} {self.widgets[\"grade\"].value}\\n{self.widgets[\"start-end\"].value[0]} to {self.widgets[\"start-end\"].value[1]}'\n",
    "        hvplot_obj = self.data[\"PAL_FAC_single_sat\"].to_dataset().hvplot(x=\"Timestamp\", y=\"FAC\", ylim=(-30, 30))\n",
    "        self.output_pane[0].object = title\n",
    "        self.output_pane[1].object = hvplot_obj\n",
    "\n",
    "    def get_cdf_file(self):\n",
    "        # work around the weirdness of cdflib xarray tools by writing to another file first then moving to a temporary file\n",
    "        deleteme =\"/tmp/tmp\" + \"\".join(random.choice(string.ascii_letters + string.digits) for _ in range(10)) + \".cdf\"\n",
    "        self.data.swarmpal.to_cdf(deleteme, leaf=\"PAL_FAC_single_sat\")\n",
    "        # Create the tempfile as a an object property so it doesn't go out of scope and get deleted\n",
    "        # It will automatically be replaced (and old file removed) each time this is run\n",
    "        self.tempfile_cdf = NamedTemporaryFile()\n",
    "        with open(deleteme, \"rb\") as src_file:\n",
    "            shutil.copyfileobj(src_file, self.tempfile_cdf)\n",
    "            self.tempfile_cdf.seek(0)\n",
    "        os.remove(deleteme)\n",
    "        return self.tempfile_cdf\n",
    "\n",
    "    def _update_cdf_file(self):\n",
    "        self.cdf_download.file = self.get_cdf_file().name\n",
    "        self.cdf_download.filename = f'SwarmPAL_FAC_{self.spacecraft}_{self.grade}_{self.time_start_end_str}.cdf'\n",
    "\n",
    "\n",
    "data_explorer = FacDataExplorer(widgets)"
   ]
  },
  {
   "cell_type": "code",
   "execution_count": null,
   "id": "3a7779ff-d61d-460b-be56-6b25c43ce9e9",
   "metadata": {},
   "outputs": [],
   "source": [
    "data_explorer.output_pane"
   ]
  },
  {
   "cell_type": "code",
   "execution_count": null,
   "id": "1482f38f-d8a2-424d-966c-19d436e64a52",
   "metadata": {},
   "outputs": [],
   "source": [
    "dashboard = pn.template.BootstrapTemplate(\n",
    "    title=\"SwarmPAL dashboard: FAC\",\n",
    "    sidebar=data_explorer.controls,\n",
    "    main=data_explorer.output_pane,\n",
    ")\n",
    "dashboard.servable()"
   ]
  },
  {
   "cell_type": "code",
   "execution_count": null,
   "id": "034c9992-5977-4435-ae35-34d11d048cd4",
   "metadata": {},
   "outputs": [],
   "source": [
    "dashboard.show()"
   ]
  }
 ],
 "metadata": {
  "kernelspec": {
   "display_name": "swarmpal-processor",
   "language": "python",
   "name": "swarmpal-processor"
  },
  "language_info": {
   "codemirror_mode": {
    "name": "ipython",
    "version": 3
   },
   "file_extension": ".py",
   "mimetype": "text/x-python",
   "name": "python",
   "nbconvert_exporter": "python",
   "pygments_lexer": "ipython3",
   "version": "3.12.2"
  }
 },
 "nbformat": 4,
 "nbformat_minor": 5
}
